{
 "cells": [
  {
   "cell_type": "code",
   "execution_count": 43,
   "id": "4ef895e9-64ef-4b53-ac0b-9e4b23568109",
   "metadata": {},
   "outputs": [],
   "source": [
    "import pandas as pd\n",
    "import numpy as np\n",
    "from sklearn.model_selection import train_test_split, cross_val_score\n",
    "from sklearn.preprocessing import StandardScaler, LabelEncoder\n",
    "from sklearn.ensemble import RandomForestClassifier\n",
    "from sklearn.metrics import classification_report, confusion_matrix, accuracy_score\n",
    "import seaborn as sns\n",
    "import matplotlib.pyplot as plt\n",
    "from sklearn.linear_model import LogisticRegression\n"
   ]
  },
  {
   "cell_type": "code",
   "execution_count": 44,
   "id": "671bfbf3-010a-4e59-b625-386dd85c1050",
   "metadata": {},
   "outputs": [],
   "source": [
    "data = pd.read_csv('thyroid_cancer_risk_data.csv')"
   ]
  },
  {
   "cell_type": "markdown",
   "id": "91cc9b8c-4213-4d79-b601-f68c01ebc82f",
   "metadata": {},
   "source": [
    "# Lets Start With Data Visualization and Analysis"
   ]
  },
  {
   "cell_type": "code",
   "execution_count": 45,
   "id": "e6b11c2f-abc6-4718-912e-25c4bb1e918d",
   "metadata": {},
   "outputs": [
    {
     "name": "stdout",
     "output_type": "stream",
     "text": [
      "Dataset Overview:\n",
      "<class 'pandas.core.frame.DataFrame'>\n",
      "RangeIndex: 212691 entries, 0 to 212690\n",
      "Data columns (total 17 columns):\n",
      " #   Column               Non-Null Count   Dtype  \n",
      "---  ------               --------------   -----  \n",
      " 0   Patient_ID           212691 non-null  int64  \n",
      " 1   Age                  212691 non-null  int64  \n",
      " 2   Gender               212691 non-null  object \n",
      " 3   Country              212691 non-null  object \n",
      " 4   Ethnicity            212691 non-null  object \n",
      " 5   Family_History       212691 non-null  object \n",
      " 6   Radiation_Exposure   212691 non-null  object \n",
      " 7   Iodine_Deficiency    212691 non-null  object \n",
      " 8   Smoking              212691 non-null  object \n",
      " 9   Obesity              212691 non-null  object \n",
      " 10  Diabetes             212691 non-null  object \n",
      " 11  TSH_Level            212691 non-null  float64\n",
      " 12  T3_Level             212691 non-null  float64\n",
      " 13  T4_Level             212691 non-null  float64\n",
      " 14  Nodule_Size          212691 non-null  float64\n",
      " 15  Thyroid_Cancer_Risk  212691 non-null  object \n",
      " 16  Diagnosis            212691 non-null  object \n",
      "dtypes: float64(4), int64(2), object(11)\n",
      "memory usage: 27.6+ MB\n",
      "None\n"
     ]
    }
   ],
   "source": [
    "print(\"Dataset Overview:\")\n",
    "print(data.info())"
   ]
  },
  {
   "cell_type": "code",
   "execution_count": 46,
   "id": "bb429fbd-8034-49e6-a04f-feb049f07032",
   "metadata": {},
   "outputs": [
    {
     "name": "stdout",
     "output_type": "stream",
     "text": [
      "   Patient_ID  Age  Gender  Country  Ethnicity Family_History  \\\n",
      "0           1   66    Male   Russia  Caucasian             No   \n",
      "1           2   29    Male  Germany   Hispanic             No   \n",
      "2           3   86    Male  Nigeria  Caucasian             No   \n",
      "3           4   75  Female    India      Asian             No   \n",
      "4           5   35  Female  Germany    African            Yes   \n",
      "\n",
      "  Radiation_Exposure Iodine_Deficiency Smoking Obesity Diabetes  TSH_Level  \\\n",
      "0                Yes                No      No      No       No       9.37   \n",
      "1                Yes                No      No      No       No       1.83   \n",
      "2                 No                No      No      No       No       6.26   \n",
      "3                 No                No      No      No       No       4.10   \n",
      "4                Yes                No      No      No       No       9.10   \n",
      "\n",
      "   T3_Level  T4_Level  Nodule_Size Thyroid_Cancer_Risk Diagnosis  \n",
      "0      1.67      6.16         1.08                 Low    Benign  \n",
      "1      1.73     10.54         4.05                 Low    Benign  \n",
      "2      2.59     10.57         4.61                 Low    Benign  \n",
      "3      2.62     11.04         2.46              Medium    Benign  \n",
      "4      2.11     10.71         2.11                High    Benign  \n"
     ]
    }
   ],
   "source": [
    "print(data.head())"
   ]
  },
  {
   "cell_type": "code",
   "execution_count": 47,
   "id": "77a1e904-546e-46d3-8135-6ea8959ececf",
   "metadata": {},
   "outputs": [
    {
     "name": "stdout",
     "output_type": "stream",
     "text": [
      "Summary Statistics:\n",
      "         Patient_ID            Age      TSH_Level       T3_Level  \\\n",
      "count  212691.00000  212691.000000  212691.000000  212691.000000   \n",
      "mean   106346.00000      51.918497       5.045102       2.001727   \n",
      "std     61398.74739      21.632815       2.860264       0.866248   \n",
      "min         1.00000      15.000000       0.100000       0.500000   \n",
      "25%     53173.50000      33.000000       2.570000       1.250000   \n",
      "50%    106346.00000      52.000000       5.040000       2.000000   \n",
      "75%    159518.50000      71.000000       7.520000       2.750000   \n",
      "max    212691.00000      89.000000      10.000000       3.500000   \n",
      "\n",
      "            T4_Level    Nodule_Size  \n",
      "count  212691.000000  212691.000000  \n",
      "mean        8.246204       2.503403  \n",
      "std         2.164188       1.444631  \n",
      "min         4.500000       0.000000  \n",
      "25%         6.370000       1.250000  \n",
      "50%         8.240000       2.510000  \n",
      "75%        10.120000       3.760000  \n",
      "max        12.000000       5.000000  \n"
     ]
    }
   ],
   "source": [
    "print(\"Summary Statistics:\")\n",
    "print(data.describe())"
   ]
  },
  {
   "cell_type": "code",
   "execution_count": 48,
   "id": "a289db9c-d58a-47d4-871a-94f452fa5c69",
   "metadata": {},
   "outputs": [
    {
     "name": "stdout",
     "output_type": "stream",
     "text": [
      "Missing Values:\n",
      "Patient_ID             0\n",
      "Age                    0\n",
      "Gender                 0\n",
      "Country                0\n",
      "Ethnicity              0\n",
      "Family_History         0\n",
      "Radiation_Exposure     0\n",
      "Iodine_Deficiency      0\n",
      "Smoking                0\n",
      "Obesity                0\n",
      "Diabetes               0\n",
      "TSH_Level              0\n",
      "T3_Level               0\n",
      "T4_Level               0\n",
      "Nodule_Size            0\n",
      "Thyroid_Cancer_Risk    0\n",
      "Diagnosis              0\n",
      "dtype: int64\n"
     ]
    }
   ],
   "source": [
    "# Check missing values\n",
    "print(\"Missing Values:\")\n",
    "print(data.isnull().sum())"
   ]
  },
  {
   "cell_type": "code",
   "execution_count": 49,
   "id": "f1db5c6f-b35b-418e-8741-a98c35b45c28",
   "metadata": {},
   "outputs": [],
   "source": [
    "# Convert categorical risk factors into numerical values for correlation analysis\n",
    "encoding_dict = {\n",
    "    \"Yes\": 1, \"No\": 0,\n",
    "    \"Low\": 0, \"Medium\": 1, \"High\": 2  # Ordinal encoding for risk levels\n",
    "}"
   ]
  },
  {
   "cell_type": "code",
   "execution_count": 50,
   "id": "c5a89016-f8ea-447b-ba9c-8630552b0234",
   "metadata": {},
   "outputs": [],
   "source": [
    "categorical_features = [\"Family_History\", \"Radiation_Exposure\", \"Iodine_Deficiency\", \"Smoking\", \"Obesity\", \"Diabetes\", \"Thyroid_Cancer_Risk\"]\n",
    "data_encoded = data.copy()\n",
    "for col in categorical_features:\n",
    "    data_encoded[col] = data_encoded[col].map(encoding_dict)"
   ]
  },
  {
   "cell_type": "code",
   "execution_count": 51,
   "id": "85b2d954-596d-4cd2-9f63-166d6dd414fc",
   "metadata": {},
   "outputs": [],
   "source": [
    "# Compute correlation matrix\n",
    "correlation_matrix = data_encoded[categorical_features].corr()"
   ]
  },
  {
   "cell_type": "code",
   "execution_count": null,
   "id": "e93d4e19-3488-4036-b60f-bca5b0d7674c",
   "metadata": {},
   "outputs": [],
   "source": [
    "plt.figure(figsize=(10, 6))\n",
    "sns.heatmap(correlation_matrix, annot=True, cmap=\"coolwarm\", fmt=\".2f\", linewidths=0.5)\n",
    "plt.title(\"Correlation between Risk Factors and Thyroid Cancer Risk\")\n",
    "\n",
    "# Save the figure before showing it\n",
    "plt.savefig('correlation_heatmap.png', dpi=300, bbox_inches='tight')\n",
    "\n",
    "# Then show it (if you're in an interactive environment)\n",
    "plt.show()"
   ]
  },
  {
   "cell_type": "code",
   "execution_count": 53,
   "id": "8f6938bd-4ff9-471f-80d3-6cb02123c75a",
   "metadata": {},
   "outputs": [],
   "source": [
    "# Define hormone levels, risk category and diagnosis category for visualization\n",
    "hormone_levels = [\"TSH_Level\", \"T3_Level\", \"T4_Level\"]\n",
    "risk_category = \"Thyroid_Cancer_Risk\"\n",
    "diagnosis_category = \"Diagnosis\""
   ]
  },
  {
   "cell_type": "code",
   "execution_count": 54,
   "id": "12a4fecb-d346-4c6a-a486-3a6d4fffa962",
   "metadata": {},
   "outputs": [
    {
     "name": "stderr",
     "output_type": "stream",
     "text": [
      "/tmp/ipykernel_4085132/857467601.py:6: FutureWarning: \n",
      "\n",
      "Passing `palette` without assigning `hue` is deprecated and will be removed in v0.14.0. Assign the `x` variable to `hue` and set `legend=False` for the same effect.\n",
      "\n",
      "  sns.boxplot(data=data, x=risk_category, y=hormone, palette=\"Set2\")\n",
      "/tmp/ipykernel_4085132/857467601.py:6: FutureWarning: \n",
      "\n",
      "Passing `palette` without assigning `hue` is deprecated and will be removed in v0.14.0. Assign the `x` variable to `hue` and set `legend=False` for the same effect.\n",
      "\n",
      "  sns.boxplot(data=data, x=risk_category, y=hormone, palette=\"Set2\")\n",
      "/tmp/ipykernel_4085132/857467601.py:6: FutureWarning: \n",
      "\n",
      "Passing `palette` without assigning `hue` is deprecated and will be removed in v0.14.0. Assign the `x` variable to `hue` and set `legend=False` for the same effect.\n",
      "\n",
      "  sns.boxplot(data=data, x=risk_category, y=hormone, palette=\"Set2\")\n"
     ]
    },
    {
     "data": {
      "image/png": "[encoded data removed]",
      "text/plain": [
       "<Figure size 1500x500 with 3 Axes>"
      ]
     },
     "metadata": {},
     "output_type": "display_data"
    }
   ],
   "source": [
    "# Plot the distribution of hormone levels across risk categories\n",
    "plt.figure(figsize=(15, 5))\n",
    "\n",
    "for i, hormone in enumerate(hormone_levels, 1):\n",
    "    plt.subplot(1, 3, i)\n",
    "    sns.boxplot(data=data, x=risk_category, y=hormone, palette=\"Set2\")\n",
    "    plt.title(f\"Distribution of {hormone} by Risk Category\")\n",
    "    plt.xlabel(\"Thyroid Cancer Risk\")\n",
    "    plt.ylabel(hormone)\n",
    "\n",
    "plt.tight_layout()\n",
    "plt.show()"
   ]
  },
  {
   "cell_type": "code",
   "execution_count": 55,
   "id": "37ffb899-e9fb-4a9e-ac38-1b676299f104",
   "metadata": {},
   "outputs": [
    {
     "name": "stderr",
     "output_type": "stream",
     "text": [
      "/tmp/ipykernel_4085132/2998310953.py:6: FutureWarning: \n",
      "\n",
      "Passing `palette` without assigning `hue` is deprecated and will be removed in v0.14.0. Assign the `x` variable to `hue` and set `legend=False` for the same effect.\n",
      "\n",
      "  sns.boxplot(data=data, x=diagnosis_category, y=hormone, palette=\"coolwarm\")\n",
      "/tmp/ipykernel_4085132/2998310953.py:6: FutureWarning: \n",
      "\n",
      "Passing `palette` without assigning `hue` is deprecated and will be removed in v0.14.0. Assign the `x` variable to `hue` and set `legend=False` for the same effect.\n",
      "\n",
      "  sns.boxplot(data=data, x=diagnosis_category, y=hormone, palette=\"coolwarm\")\n",
      "/tmp/ipykernel_4085132/2998310953.py:6: FutureWarning: \n",
      "\n",
      "Passing `palette` without assigning `hue` is deprecated and will be removed in v0.14.0. Assign the `x` variable to `hue` and set `legend=False` for the same effect.\n",
      "\n",
      "  sns.boxplot(data=data, x=diagnosis_category, y=hormone, palette=\"coolwarm\")\n"
     ]
    },
    {
     "data": {
      "image/png": "[encoded data removed]",
      "text/plain": [
       "<Figure size 1500x500 with 3 Axes>"
      ]
     },
     "metadata": {},
     "output_type": "display_data"
    }
   ],
   "source": [
    "# Plot the distribution of hormone levels across diagnoses\n",
    "plt.figure(figsize=(15, 5))\n",
    "\n",
    "for i, hormone in enumerate(hormone_levels, 1):\n",
    "    plt.subplot(1, 3, i)\n",
    "    sns.boxplot(data=data, x=diagnosis_category, y=hormone, palette=\"coolwarm\")\n",
    "    plt.title(f\"Distribution of {hormone} by Diagnosis\")\n",
    "    plt.xlabel(\"Diagnosis\")\n",
    "    plt.ylabel(hormone)\n",
    "\n",
    "plt.tight_layout()\n",
    "plt.show()"
   ]
  },
  {
   "cell_type": "code",
   "execution_count": 56,
   "id": "2cee3af1-9ba7-449a-a232-ae0f631be0a4",
   "metadata": {},
   "outputs": [],
   "source": [
    "variables = [\"Age\", \"Nodule_Size\"]"
   ]
  },
  {
   "cell_type": "code",
   "execution_count": 57,
   "id": "509eb198-25b3-42c4-836d-705a456b85ee",
   "metadata": {},
   "outputs": [
    {
     "name": "stderr",
     "output_type": "stream",
     "text": [
      "/tmp/ipykernel_4085132/1463596882.py:6: FutureWarning: \n",
      "\n",
      "Passing `palette` without assigning `hue` is deprecated and will be removed in v0.14.0. Assign the `x` variable to `hue` and set `legend=False` for the same effect.\n",
      "\n",
      "  sns.boxplot(data=data, x=risk_category, y=\"Age\", palette=\"coolwarm\")\n",
      "/tmp/ipykernel_4085132/1463596882.py:13: FutureWarning: \n",
      "\n",
      "Passing `palette` without assigning `hue` is deprecated and will be removed in v0.14.0. Assign the `x` variable to `hue` and set `legend=False` for the same effect.\n",
      "\n",
      "  sns.boxplot(data=data, x=risk_category, y=\"Nodule_Size\", palette=\"coolwarm\")\n"
     ]
    },
    {
     "data": {
      "image/png": "[encoded data removed]",
      "text/plain": [
       "<Figure size 1500x500 with 3 Axes>"
      ]
     },
     "metadata": {},
     "output_type": "display_data"
    }
   ],
   "source": [
    "# Set up the figure\n",
    "plt.figure(figsize=(15, 5))\n",
    "\n",
    "# Age vs. Cancer Risk\n",
    "plt.subplot(1, 3, 1)\n",
    "sns.boxplot(data=data, x=risk_category, y=\"Age\", palette=\"coolwarm\")\n",
    "plt.title(\"Age vs. Thyroid Cancer Risk\")\n",
    "plt.xlabel(\"Thyroid Cancer Risk\")\n",
    "plt.ylabel(\"Age\")\n",
    "\n",
    "# Nodule Size vs. Cancer Risk\n",
    "plt.subplot(1, 3, 2)\n",
    "sns.boxplot(data=data, x=risk_category, y=\"Nodule_Size\", palette=\"coolwarm\")\n",
    "plt.title(\"Nodule Size vs. Thyroid Cancer Risk\")\n",
    "plt.xlabel(\"Thyroid Cancer Risk\")\n",
    "plt.ylabel(\"Nodule Size\")\n",
    "\n",
    "# Gender Distribution Across Risk Categories\n",
    "plt.subplot(1, 3, 3)\n",
    "sns.countplot(data=data, x=risk_category, hue=\"Gender\", palette=\"Set2\")\n",
    "plt.title(\"Gender Distribution by Thyroid Cancer Risk\")\n",
    "plt.xlabel(\"Thyroid Cancer Risk\")\n",
    "plt.ylabel(\"Count\")\n",
    "\n",
    "plt.tight_layout()\n",
    "plt.show()"
   ]
  },
  {
   "cell_type": "code",
   "execution_count": 58,
   "id": "7f2e8049-e224-425c-ab39-a3c91e71fe41",
   "metadata": {},
   "outputs": [],
   "source": [
    "categorical_columns = [\"Gender\", \"Country\", \"Ethnicity\"]"
   ]
  },
  {
   "cell_type": "code",
   "execution_count": null,
   "id": "0b5834e5-466a-4de6-b3c2-cee13e1fd05a",
   "metadata": {},
   "outputs": [],
   "source": [
    "fig, axes = plt.subplots(1, 3, figsize=(18, 5))\n",
    "\n",
    "# Generate pie charts for each category\n",
    "for i, column in enumerate(categorical_columns):\n",
    "    data_counts = data[column].value_counts()\n",
    "    axes[i].pie(data_counts, labels=data_counts.index, autopct='%1.1f%%', startangle=140, colors=plt.cm.Paired.colors)\n",
    "    axes[i].set_title(f\"Distribution of {column}\")\n",
    "\n",
    "plt.tight_layout()\n",
    "\n",
    "# Save using the figure object\n",
    "fig.savefig('categorical_distributions.png', dpi=300, bbox_inches='tight')\n",
    "\n",
    "# Show the figure\n",
    "plt.show()"
   ]
  },
  {
   "cell_type": "markdown",
   "id": "4901ccc9-f342-4b80-817a-36ad42ab0cb6",
   "metadata": {},
   "source": [
    "# Lets Use Some Machine Learning For Predictive Modeling Based on Specific Demographics!"
   ]
  },
  {
   "cell_type": "code",
   "execution_count": 60,
   "id": "e060e68c-ada1-4d49-865e-8a2c2191bc04",
   "metadata": {},
   "outputs": [],
   "source": [
    "# Import statements would be at the top (not shown in original code):\n",
    "# from sklearn.ensemble import RandomForestClassifier\n",
    "# from sklearn.preprocessing import StandardScaler, LabelEncoder\n",
    "# from sklearn.model_selection import train_test_split, cross_val_score\n",
    "# from sklearn.metrics import classification_report, confusion_matrix\n",
    "# import pandas as pd\n",
    "# import matplotlib.pyplot as plt\n",
    "# import seaborn as sns\n",
    "\n",
    "# Machine learning model using Random Forest for thyroid cancer prediction\n",
    "class ThyroidCancerPredictor:\n",
    "    def __init__(self):\n",
    "        \"\"\"\n",
    "        Initialize the predictor with a Random Forest classifier and preprocessing tools.\n",
    "        \n",
    "        The model uses:\n",
    "        - 100 decision trees in the forest\n",
    "        - Maximum tree depth of 10 to prevent overfitting\n",
    "        - Fixed random state for reproducibility\n",
    "        \"\"\"\n",
    "        self.model = RandomForestClassifier(\n",
    "            n_estimators=100,  # Number of trees in the forest\n",
    "            max_depth=10,      # Maximum depth of each tree\n",
    "            random_state=42    # Seed for reproducibility\n",
    "        )\n",
    "        self.label_encoders = {}  # Dictionary to store encoders for categorical variables\n",
    "        self.scaler = StandardScaler()  # Standardizes numerical features to mean=0, variance=1\n",
    "        \n",
    "    def preprocess_data(self, df):\n",
    "        \"\"\"\n",
    "        Prepare the data for model training by handling categorical variables and scaling numerical features.\n",
    "        \n",
    "        Args:\n",
    "            df: DataFrame containing patient data with features and diagnosis\n",
    "            \n",
    "        Returns:\n",
    "            X: Processed feature matrix (all numeric)\n",
    "            y: Target variable (diagnosis)\n",
    "        \"\"\"\n",
    "        # Create copies to avoid modifying original data\n",
    "        X = df.drop(['Patient_ID', 'Diagnosis'], axis=1)  # Remove ID and target from features\n",
    "        y = df['Diagnosis']  # Extract target variable\n",
    "        \n",
    "        # Define column types for appropriate preprocessing\n",
    "        numerical_cols = ['Age', 'TSH_Level', 'T3_Level', 'T4_Level', 'Nodule_Size']\n",
    "        categorical_cols = ['Gender', 'Country', 'Ethnicity', 'Family_History', \n",
    "                          'Radiation_Exposure', 'Iodine_Deficiency', 'Smoking', \n",
    "                          'Obesity', 'Diabetes', 'Thyroid_Cancer_Risk']\n",
    "        \n",
    "        # Convert categorical variables to numeric using Label Encoding\n",
    "        # Store encoders for later use in prediction\n",
    "        for col in categorical_cols:\n",
    "            self.label_encoders[col] = LabelEncoder()\n",
    "            X[col] = self.label_encoders[col].fit_transform(X[col])\n",
    "        \n",
    "        # Standardize numerical features (mean=0, std=1)\n",
    "        # This helps features with different scales contribute equally\n",
    "        X[numerical_cols] = self.scaler.fit_transform(X[numerical_cols])\n",
    "        \n",
    "        return X, y\n",
    "    \n",
    "    def train(self, X, y):\n",
    "        \"\"\"\n",
    "        Train the model using the preprocessed data and evaluate its performance.\n",
    "        \n",
    "        Args:\n",
    "            X: Processed feature matrix\n",
    "            y: Target variable\n",
    "            \n",
    "        Returns:\n",
    "            Dictionary containing various performance metrics and evaluation results\n",
    "        \"\"\"\n",
    "        # Split the data into training (80%) and testing (20%) sets\n",
    "        X_train, X_test, y_train, y_test = train_test_split(\n",
    "            X, y, test_size=0.2, random_state=42\n",
    "        )\n",
    "        \n",
    "        # Train the Random Forest model on the training data\n",
    "        self.model.fit(X_train, y_train)\n",
    "        \n",
    "        # Evaluate model performance on different datasets\n",
    "        train_score = self.model.score(X_train, y_train)  # Accuracy on training data\n",
    "        test_score = self.model.score(X_test, y_test)     # Accuracy on test data\n",
    "        cv_scores = cross_val_score(self.model, X, y, cv=5)  # 5-fold cross-validation scores\n",
    "        \n",
    "        # Generate predictions for test set to calculate detailed metrics\n",
    "        y_pred = self.model.predict(X_test)\n",
    "        \n",
    "        # Calculate and rank feature importance from the Random Forest\n",
    "        feature_importance = pd.DataFrame({\n",
    "            'feature': X.columns,\n",
    "            'importance': self.model.feature_importances_\n",
    "        }).sort_values('importance', ascending=False)\n",
    "        \n",
    "        # Return comprehensive evaluation results\n",
    "        return {\n",
    "            'train_score': train_score,  # Model accuracy on training data\n",
    "            'test_score': test_score,    # Model accuracy on test data \n",
    "            'cv_scores': cv_scores,      # Cross-validation scores\n",
    "            'classification_report': classification_report(y_test, y_pred),  # Detailed metrics\n",
    "            'confusion_matrix': confusion_matrix(y_test, y_pred),  # Error matrix\n",
    "            'feature_importance': feature_importance,  # Ranked feature importance\n",
    "            'X_test': X_test,  # Test features (for ROC curve)\n",
    "            'y_test': y_test,  # Test labels\n",
    "            'y_pred': y_pred   # Model predictions\n",
    "        }\n",
    "    \n",
    "    def predict(self, new_data):\n",
    "        \"\"\"\n",
    "        Make predictions on new patient data.\n",
    "        \n",
    "        Args:\n",
    "            new_data: DataFrame with same features as training data (excluding Diagnosis)\n",
    "            \n",
    "        Returns:\n",
    "            predictions: Class predictions (Benign/Malignant)\n",
    "            probabilities: Probability scores for each class\n",
    "        \"\"\"\n",
    "        # Preprocess new data using the same transformations as training data\n",
    "        processed_data = new_data.copy()\n",
    "        \n",
    "        # Transform categorical variables using stored encoders\n",
    "        for col, encoder in self.label_encoders.items():\n",
    "            if col in processed_data.columns:\n",
    "                processed_data[col] = encoder.transform(processed_data[col])\n",
    "        \n",
    "        # Scale numerical features using the stored scaler\n",
    "        numerical_cols = ['Age', 'TSH_Level', 'T3_Level', 'T4_Level', 'Nodule_Size']\n",
    "        processed_data[numerical_cols] = self.scaler.transform(processed_data[numerical_cols])\n",
    "        \n",
    "        # Generate predictions and probability scores\n",
    "        predictions = self.model.predict(processed_data)  # Class labels\n",
    "        probabilities = self.model.predict_proba(processed_data)  # Class probabilities\n",
    "        \n",
    "        return predictions, probabilities\n",
    "\n",
    "    def plot_results(self, results):\n",
    "        \"\"\"\n",
    "        Visualize model evaluation results using multiple plots.\n",
    "        \n",
    "        Args:\n",
    "            results: Dictionary returned by the train method\n",
    "            \n",
    "        Returns:\n",
    "            fig: Matplotlib figure with 4 subplots showing different aspects of model performance\n",
    "        \"\"\"\n",
    "        # Create a figure with 2x2 subplots\n",
    "        fig, ((ax1, ax2), (ax3, ax4)) = plt.subplots(2, 2, figsize=(15, 12))\n",
    "        \n",
    "        # 1. Confusion Matrix - Shows true/false positives/negatives\n",
    "        sns.heatmap(results['confusion_matrix'], annot=True, fmt='d', ax=ax1)\n",
    "        ax1.set_title('Confusion Matrix')\n",
    "        ax1.set_xlabel('Predicted')\n",
    "        ax1.set_ylabel('Actual')\n",
    "        \n",
    "        # 2. Feature Importance - Shows top 10 most influential features\n",
    "        top_features = results['feature_importance'].head(10)\n",
    "        sns.barplot(x='importance', y='feature', data=top_features, ax=ax2)\n",
    "        ax2.set_title('Top 10 Feature Importance')\n",
    "        \n",
    "        # 3. Cross-validation Scores - Shows distribution of CV scores\n",
    "        sns.boxplot(x=results['cv_scores'], ax=ax3)\n",
    "        ax3.set_title('Cross-validation Scores Distribution')\n",
    "        \n",
    "        # 4. ROC Curve - Shows tradeoff between sensitivity and specificity\n",
    "        from sklearn.metrics import roc_curve, auc\n",
    "        \n",
    "        # Convert labels to numeric (assuming 'Malignant' is the positive class)\n",
    "        y_test_numeric = (results['y_test'] == 'Malignant').astype(int)\n",
    "        \n",
    "        # Calculate ROC curve points\n",
    "        fpr, tpr, _ = roc_curve(y_test_numeric, \n",
    "                               self.model.predict_proba(results['X_test'])[:, 1],\n",
    "                               pos_label=1)\n",
    "        roc_auc = auc(fpr, tpr)  # Calculate Area Under Curve\n",
    "        \n",
    "        # Plot ROC curve\n",
    "        ax4.plot(fpr, tpr, color='darkorange', lw=2, \n",
    "                label=f'ROC curve (AUC = {roc_auc:.2f})')\n",
    "        ax4.plot([0, 1], [0, 1], color='navy', lw=2, linestyle='--')  # Diagonal reference line\n",
    "        ax4.set_xlim([0.0, 1.0])\n",
    "        ax4.set_ylim([0.0, 1.05])\n",
    "        ax4.set_xlabel('False Positive Rate')\n",
    "        ax4.set_ylabel('True Positive Rate')\n",
    "        ax4.set_title('Receiver Operating Characteristic')\n",
    "        ax4.legend(loc=\"lower right\")\n",
    "        \n",
    "        plt.tight_layout()  # Adjust spacing between subplots\n",
    "        return fig  # Return figure for display or saving"
   ]
  },
  {
   "cell_type": "code",
   "execution_count": null,
   "id": "55fc2e23-7cdf-4cff-b917-36574c87dec1",
   "metadata": {},
   "outputs": [],
   "source": [
    "# Load your data\n",
    "df = pd.read_csv('thyroid_cancer_risk_data.csv')\n",
    "\n",
    "# Clear any existing plots\n",
    "plt.close('all')\n",
    "\n",
    "# Initialize and train the model\n",
    "predictor = ThyroidCancerPredictor()\n",
    "X, y = predictor.preprocess_data(df)\n",
    "results = predictor.train(X, y)\n",
    "\n",
    "# Print results\n",
    "print(f\"Training Score: {results['train_score']:.3f}\")\n",
    "print(f\"Testing Score: {results['test_score']:.3f}\")\n",
    "print(f\"\\nCross-validation Scores: {results['cv_scores'].mean():.3f} (+/- {results['cv_scores'].std() * 2:.3f})\")\n",
    "print(\"\\nClassification Report:\")\n",
    "print(results['classification_report'])\n",
    "\n",
    "# Plot results once and show\n",
    "fig = predictor.plot_results(results)\n",
    "plt.show()"
   ]
  },
  {
   "cell_type": "code",
   "execution_count": 62,
   "id": "9690d916-9b44-4797-8195-edf182250445",
   "metadata": {},
   "outputs": [
    {
     "name": "stdout",
     "output_type": "stream",
     "text": [
      "Prediction: Benign\n",
      "Probability of Malignant: 0.145\n"
     ]
    }
   ],
   "source": [
    "#Making predictions !!\n",
    "# Example of making predictions for a new patient feel free to adjust in another cell to test it out\n",
    "new_patient_data = pd.DataFrame({\n",
    "    'Age': [40],\n",
    "    'Gender': ['Female'],\n",
    "    'Country': ['USA'],\n",
    "    'Ethnicity': ['Caucasian'],\n",
    "    'Family_History': ['No'],\n",
    "    'Radiation_Exposure': ['No'],\n",
    "    'Iodine_Deficiency': ['No'],\n",
    "    'Smoking': ['No'],\n",
    "    'Obesity': ['No'],\n",
    "    'Diabetes': ['No'],\n",
    "    'TSH_Level': [2.5],\n",
    "    'T3_Level': [120],\n",
    "    'T4_Level': [8.5],\n",
    "    'Nodule_Size': [1.2],\n",
    "    'Thyroid_Cancer_Risk': ['Low']\n",
    "})\n",
    "\n",
    "predictions, probabilities = predictor.predict(new_patient_data)\n",
    "print(f\"Prediction: {predictions[0]}\")\n",
    "print(f\"Probability of Malignant: {probabilities[0][1]:.3f}\")\n",
    "#It predicts chances of cancer in percentage out of 1 (ie: .86 -> 86%) !"
   ]
  },
  {
   "cell_type": "markdown",
   "id": "65a038fb-5a2e-4266-a175-947174f42bd0",
   "metadata": {},
   "source": [
    "# More Prediction with Logistic Regression and Random Forest To Check our Accuracy"
   ]
  },
  {
   "cell_type": "code",
   "execution_count": 63,
   "id": "fba72c9e-ba7c-4496-929d-8346016bc0c2",
   "metadata": {},
   "outputs": [],
   "source": [
    "columns_to_drop = ['Patient_ID', 'Country', 'Ethnicity']\n",
    "data.drop(columns=columns_to_drop, axis=1, inplace=True)"
   ]
  },
  {
   "cell_type": "code",
   "execution_count": 64,
   "id": "fd16db5f-b1ae-4b07-bd9c-3e3ae5f5f003",
   "metadata": {},
   "outputs": [],
   "source": [
    "# Encode categorical variables\n",
    "label_encoders = {}\n",
    "categorical_cols = ['Gender', 'Family_History', 'Radiation_Exposure', 'Iodine_Deficiency', 'Smoking', 'Obesity', 'Diabetes', 'Thyroid_Cancer_Risk', 'Diagnosis']"
   ]
  },
  {
   "cell_type": "code",
   "execution_count": 65,
   "id": "4e843dfe-03d2-4aaf-8222-01527b5a11e2",
   "metadata": {},
   "outputs": [],
   "source": [
    "for col in categorical_cols:\n",
    "    le = LabelEncoder()\n",
    "    data[col] = le.fit_transform(data[col])\n",
    "    label_encoders[col] = le"
   ]
  },
  {
   "cell_type": "code",
   "execution_count": 66,
   "id": "27c410c9-f2ae-4e12-a40e-0c63a55fc8d6",
   "metadata": {},
   "outputs": [],
   "source": [
    "# Define features and target\n",
    "X = data.drop(columns=['Diagnosis'])\n",
    "y = data['Diagnosis']"
   ]
  },
  {
   "cell_type": "code",
   "execution_count": 67,
   "id": "c1355264-08c4-4835-9b61-f8ca740b2b72",
   "metadata": {},
   "outputs": [],
   "source": [
    "# Split data into training and testing sets\n",
    "X_train, X_test, y_train, y_test = train_test_split(X, y, test_size=0.2, random_state=42)"
   ]
  },
  {
   "cell_type": "code",
   "execution_count": 68,
   "id": "e33f162c-962c-4246-a9e3-3605808acf0a",
   "metadata": {},
   "outputs": [],
   "source": [
    "# Standardize numerical features\n",
    "scaler = StandardScaler()\n",
    "X_train = scaler.fit_transform(X_train)\n",
    "X_test = scaler.transform(X_test)"
   ]
  },
  {
   "cell_type": "code",
   "execution_count": 69,
   "id": "f25ecf28-e272-4613-9829-8406e6122ab0",
   "metadata": {},
   "outputs": [],
   "source": [
    "# Define models to train\n",
    "models = {\n",
    "    'Logistic Regression': LogisticRegression(),\n",
    "    'Random Forest': RandomForestClassifier(n_estimators=100, random_state=42),\n",
    "\n",
    "}"
   ]
  },
  {
   "cell_type": "code",
   "execution_count": 70,
   "id": "fa5b0a03-adb1-48a8-98c5-0be87c714ae1",
   "metadata": {},
   "outputs": [
    {
     "name": "stdout",
     "output_type": "stream",
     "text": [
      "Training Logistic Regression...\n",
      "Logistic Regression Accuracy: 0.8251\n",
      "Classification Report:\n",
      "              precision    recall  f1-score   support\n",
      "\n",
      "           0       0.85      0.94      0.89     32615\n",
      "           1       0.69      0.45      0.54      9924\n",
      "\n",
      "    accuracy                           0.83     42539\n",
      "   macro avg       0.77      0.69      0.72     42539\n",
      "weighted avg       0.81      0.83      0.81     42539\n",
      "\n",
      "--------------------------------------------------\n",
      "Training Random Forest...\n",
      "Random Forest Accuracy: 0.8233\n",
      "Classification Report:\n",
      "              precision    recall  f1-score   support\n",
      "\n",
      "           0       0.85      0.94      0.89     32615\n",
      "           1       0.69      0.44      0.53      9924\n",
      "\n",
      "    accuracy                           0.82     42539\n",
      "   macro avg       0.77      0.69      0.71     42539\n",
      "weighted avg       0.81      0.82      0.81     42539\n",
      "\n",
      "--------------------------------------------------\n"
     ]
    }
   ],
   "source": [
    "for name, model in models.items():\n",
    "    print(f\"Training {name}...\")\n",
    "    model.fit(X_train, y_train)\n",
    "    y_pred = model.predict(X_test)\n",
    "    accuracy = accuracy_score(y_test, y_pred)\n",
    "    print(f\"{name} Accuracy: {accuracy:.4f}\")\n",
    "    print(\"Classification Report:\")\n",
    "    print(classification_report(y_test, y_pred))\n",
    "    print(\"-\" * 50)"
   ]
  },
  {
   "cell_type": "code",
   "execution_count": null,
   "id": "f3904869-e34f-442d-a0bd-fd8f311e1de0",
   "metadata": {},
   "outputs": [],
   "source": []
  }
 ],
 "metadata": {
  "kernelspec": {
   "display_name": "Python 3 (ipykernel)",
   "language": "python",
   "name": "python3"
  },
  "language_info": {
   "codemirror_mode": {
    "name": "ipython",
    "version": 3
   },
   "file_extension": ".py",
   "mimetype": "text/x-python",
   "name": "python",
   "nbconvert_exporter": "python",
   "pygments_lexer": "ipython3",
   "version": "3.12.7"
  }
 },
 "nbformat": 4,
 "nbformat_minor": 5
}
